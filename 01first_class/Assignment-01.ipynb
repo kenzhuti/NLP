{
 "cells": [
  {
   "cell_type": "markdown",
   "metadata": {},
   "source": [
    "## Lesson-01 Assignment"
   ]
  },
  {
   "cell_type": "markdown",
   "metadata": {},
   "source": [
    "#### 今天是2020年1月05日，今天世界上又多了一名AI工程师 :) "
   ]
  },
  {
   "cell_type": "markdown",
   "metadata": {},
   "source": [
    "`各位同学大家好，欢迎各位开始学习我们的人工智能课程。这门课程假设大家不具备机器学习和人工智能的知识，但是希望大家具备初级的Python编程能力。根据往期同学的实际反馈，我们课程的完结之后 能力能够超过80%的计算机人工智能/深度学习方向的硕士生的能力。`"
   ]
  },
  {
   "cell_type": "markdown",
   "metadata": {},
   "source": [
    "## 本次作业的内容"
   ]
  },
  {
   "cell_type": "markdown",
   "metadata": {},
   "source": [
    "#### 1. 复现课堂代码\n",
    "\n",
    "在本部分，你需要参照我们给大家的GitHub地址里边的课堂代码，结合课堂内容，复现内容。"
   ]
  },
  {
   "cell_type": "markdown",
   "metadata": {},
   "source": [
    "#### 2. 作业截止时间\n",
    "此次作业截止时间为 2020.01.12日"
   ]
  },
  {
   "cell_type": "markdown",
   "metadata": {},
   "source": [
    "#### 3. 完成以下问答和编程练习"
   ]
  },
  {
   "cell_type": "markdown",
   "metadata": {},
   "source": [
    ">"
   ]
  },
  {
   "cell_type": "markdown",
   "metadata": {},
   "source": [
    "## 基础理论部分"
   ]
  },
  {
   "cell_type": "markdown",
   "metadata": {},
   "source": [
    "> **评阅点**：每道题是否回答完整"
   ]
  },
  {
   "cell_type": "markdown",
   "metadata": {},
   "source": [
    "#### 0. Can you come up out 3 sceneraies which use AI methods? "
   ]
  },
  {
   "cell_type": "markdown",
   "metadata": {},
   "source": [
    "Speech recognition, personalized recommendation, chat robot, autopilot, face recognition "
   ]
  },
  {
   "cell_type": "markdown",
   "metadata": {},
   "source": [
    "#### 1. How do we use Github; Why do we use Jupyter and Pycharm;"
   ]
  },
  {
   "cell_type": "markdown",
   "metadata": {},
   "source": [
    "Github:Code hosting and version control\n",
    "Jupyter and Pycharm: IDE for Python"
   ]
  },
  {
   "cell_type": "markdown",
   "metadata": {},
   "source": [
    "#### 2. What's the Probability Model?"
   ]
  },
  {
   "cell_type": "markdown",
   "metadata": {},
   "source": [
    "Ans:A probability model is a mathematical representation of a random phenomenon. It is defined by its sample space, events within the sample space, and probabilities associated with each event."
   ]
  },
  {
   "cell_type": "markdown",
   "metadata": {},
   "source": [
    "#### 3. Can you came up with some sceneraies at which we could use Probability Model?"
   ]
  },
  {
   "cell_type": "markdown",
   "metadata": {},
   "source": [
    "Ans:Natural Language Processing, Recommender system"
   ]
  },
  {
   "cell_type": "markdown",
   "metadata": {},
   "source": [
    "#### 4. Why do we use probability and what's the difficult points for programming based on parsing and pattern match?"
   ]
  },
  {
   "cell_type": "markdown",
   "metadata": {},
   "source": [
    "Ans:\n",
    "Reason:\n",
    "In short, pattern matching provides a convenient way to deconstruct data structures, and constructs that are similar (or even identical) to the syntax of deconstruction can enhance language consistency.\n",
    "\n",
    "difficulties:\n",
    "However, there are also some inconveniences in deconstructing data structures by using pattern matching. When the data structure is \"shallow\", pattern matching is better, as in the above example. However, when the data structure is \"deep\", using the language of pattern matching to do get/set operations is a little troublesome"
   ]
  },
  {
   "cell_type": "markdown",
   "metadata": {},
   "source": [
    "#### 5. What's the Language Model;"
   ]
  },
  {
   "cell_type": "markdown",
   "metadata": {},
   "source": [
    "Ans:The probability of a sentence"
   ]
  },
  {
   "cell_type": "markdown",
   "metadata": {},
   "source": [
    "#### 6. Can you came up with some sceneraies at which we could use Language Model?\n"
   ]
  },
  {
   "cell_type": "markdown",
   "metadata": {},
   "source": [
    "Ans:Chat bot,speech recognition system"
   ]
  },
  {
   "cell_type": "markdown",
   "metadata": {},
   "source": [
    "#### 7. What's the 1-gram language model;"
   ]
  },
  {
   "cell_type": "markdown",
   "metadata": {},
   "source": [
    "Ans: \n",
    "$$ Pro(w_1 w_2 w_3 w_4 ... w_n) = Pr(w_1 | w_2 w_3 w_ 4 ... w_n) * P(w2 | w_3 w_4 ... w_n) * Pr(w_3 | w_4 ... w_n) * Pr(w_{n-1}|w_n) * Pr(w_n)$$\n",
    "was simplified as\n",
    "$$ Pro(w_1 w_2 w_3 w_4 ... w_n) \\sim Pr(w_1 | w_2 ) * P(w2 | w_3 ) * Pr(w_3 | w_4) * ... * Pr(w_n)$$ "
   ]
  },
  {
   "cell_type": "markdown",
   "metadata": {},
   "source": [
    "#### 8. What's the disadvantages and advantages of 1-gram language model;"
   ]
  },
  {
   "cell_type": "markdown",
   "metadata": {},
   "source": [
    "Ans:\n",
    "disadvantages：There is little contextual information and no distinction\n",
    "\n",
    "advantages: The number of parameters is small, the calculation cost is small, the training corpus need not be too much, the parameter estimation is reliable\n"
   ]
  },
  {
   "cell_type": "markdown",
   "metadata": {},
   "source": [
    "#### 9. What't the 2-gram models;"
   ]
  },
  {
   "cell_type": "markdown",
   "metadata": {},
   "source": [
    "Ans:$$ Pro(w_1 w_2 w_3 w_4 ... w_n) = Pr(w_1 | w_2 w_3 w_ 4 ... w_n) * P(w2 | w_3 w_4 ... w_n) * Pr(w_3 | w_4 ... w_n) * Pr(w_{n-1}|w_n) * Pr(w_n)$$\n",
    "was simplified as\n",
    "$$ Pro(w_1 w_2 w_3 w_4 ... w_n) \\sim Pr(w_1 | w_2 w_3 ) * P(w_2 | w_3 w_4 ) * Pr(w_3 | w_4 w_5) * ... * Pr(w_{n-2} | w_{n-1} w_n) * Pr(w_{n-1} | w_n)Pr(w_n)$$ \n",
    "\n",
    "eg:\n",
    "$$ Pro(w_1w_2w_3w_4w_5w_6)\n",
    "=P(w_1|w_2w_3w_4w_5w_6)P(w_2w_3w_4w_5w_6)\n",
    "=P(w_1|w_2w_3w_4w_5w_6)P(w_2|w_3w_4w_5w_6)P(w_3w_4w_5w_6)\n",
    "=P(w_1|w_2w_3w_4w_5w_6)P(w_2|w_3w_4w_5w_6)P(w_3|w_4w_5w_6)P(w_4w_5w_6)\n",
    "=P(w_1|w_2w_3w_4w_5w_6)P(w_2|w_3w_4w_5w_6)P(w_3|w_4w_5w_6)P(w_4|w_5w_6)P(w_5w_6)\n",
    "=P(w_1|w_2w_3w_4w_5w_6)P(w_2|w_3w_4w_5w_6)P(w_3|w_4w_5w_6)P(w_4|w_5w_6)P(w_5|w_6)p(w_6)\n",
    "≈P(w_1|w_2w_3)P(w_2|w_3w_4)P(w_3|w_4w_5)P(w_4|w_5w_6)P(w_5|w_6)P(w_6)$$"
   ]
  },
  {
   "cell_type": "markdown",
   "metadata": {},
   "source": [
    "## 编程实践部分"
   ]
  },
  {
   "cell_type": "markdown",
   "metadata": {},
   "source": [
    "#### 1. 设计你自己的句子生成器"
   ]
  },
  {
   "cell_type": "markdown",
   "metadata": {},
   "source": [
    "如何生成句子是一个很经典的问题，从1940s开始，图灵提出机器智能的时候，就使用的是人类能不能流畅和计算机进行对话。和计算机对话的一个前提是，计算机能够生成语言。\n",
    "\n",
    "计算机如何能生成语言是一个经典但是又很复杂的问题。 我们课程上为大家介绍的是一种基于规则（Rule Based）的生成方法。该方法虽然提出的时间早，但是现在依然在很多地方能够大显身手。值得说明的是，现在很多很实用的算法，都是很久之前提出的，例如，二分查找提出与1940s, Dijstra算法提出于1960s 等等。"
   ]
  },
  {
   "cell_type": "markdown",
   "metadata": {},
   "source": [
    "在著名的电视剧，电影《西部世界》中，这些机器人们语言生成的方法就是使用的SyntaxTree生成语言的方法。\n",
    "\n",
    "> \n",
    ">\n",
    "\n",
    "![WstWorld](https://timgsa.baidu.com/timg?image&quality=80&size=b9999_10000&sec=1569578233461&di=4adfa7597fb380e7cc0e67190bbd7605&imgtype=0&src=http%3A%2F%2Fs1.sinaimg.cn%2Flarge%2F006eYYfyzy76cmpG3Yb1f)\n",
    "\n",
    "> \n",
    ">"
   ]
  },
  {
   "cell_type": "markdown",
   "metadata": {},
   "source": [
    "在这一部分，需要各位同学首先定义自己的语言。 大家可以先想一个应用场景，然后在这个场景下，定义语法。例如：\n",
    "\n",
    "在西部世界里，一个”人类“的语言可以定义为：\n",
    "``` \n",
    "human = \"\"\"\n",
    "human = 自己 寻找 活动\n",
    "自己 = 我 | 俺 | 我们 \n",
    "寻找 = 看看 | 找找 | 想找点\n",
    "活动 = 乐子 | 玩的\n",
    "\"\"\"\n",
    "```\n",
    "\n",
    "一个“接待员”的语言可以定义为\n",
    "```\n",
    "host = \"\"\"\n",
    "host = 寒暄 报数 询问 业务相关 结尾 \n",
    "报数 = 我是 数字 号 ,\n",
    "数字 = 单个数字 | 数字 单个数字 \n",
    "单个数字 = 1 | 2 | 3 | 4 | 5 | 6 | 7 | 8 | 9 \n",
    "寒暄 = 称谓 打招呼 | 打招呼\n",
    "称谓 = 人称 ,\n",
    "人称 = 先生 | 女士 | 小朋友\n",
    "打招呼 = 你好 | 您好 \n",
    "询问 = 请问你要 | 您需要\n",
    "业务相关 = 玩玩 具体业务\n",
    "玩玩 = 耍一耍 | 玩一玩\n",
    "具体业务 = 喝酒 | 打牌 | 打猎 | 赌博\n",
    "结尾 = 吗？\"\"\"\n",
    "\n",
    "```\n",
    "\n",
    "\n"
   ]
  },
  {
   "cell_type": "markdown",
   "metadata": {},
   "source": [
    "请定义你自己的语法: "
   ]
  },
  {
   "cell_type": "markdown",
   "metadata": {},
   "source": [
    "第一个语法："
   ]
  },
  {
   "cell_type": "code",
   "execution_count": 2,
   "metadata": {},
   "outputs": [],
   "source": [
    "sport = '''\n",
    "sport = 日期 人名 意愿 地点 运动\n",
    "日期 = 今天 星期 数字\n",
    "数字 = 一 | 二 | 三 | 四 | 五 | 六 | 天\n",
    "人名 = 小明 | 小刚 | 小强 | 小花 | 小丽 | 小红\n",
    "意愿 = 想 | 打算 | 要 | 要 | 决定 | 考虑\n",
    "地点 = 介词 场所\n",
    "介词 = 在 | 去 | 前往\n",
    "场所 = 体育馆 | 健身房 | 健身工作室 | 健身中心 | 操场\n",
    "运动 = 球类 | 无氧 | 有氧\n",
    "球类 = 打球 | 打篮球 | 打乒乓球 | 打羽毛球 | 打壁球 | 踢足球\n",
    "无氧 = 做拉伸运动 | 做深蹲 | 做卧推 | 练腿 | 练臀 | 练核心 | 练背 | 练肩 | 练二头 | 练三头\n",
    "有氧 = 跑步 | 打拳 | 波比跳 | 跳绳\n",
    "'''"
   ]
  },
  {
   "cell_type": "markdown",
   "metadata": {},
   "source": [
    "> **评阅点**： 是否提出了和课程上区别较大的语法结构"
   ]
  },
  {
   "cell_type": "markdown",
   "metadata": {},
   "source": [
    "第二个语法："
   ]
  },
  {
   "cell_type": "code",
   "execution_count": 1,
   "metadata": {},
   "outputs": [],
   "source": [
    "cat = '''\n",
    "cat = pronoun name  category color food 。\n",
    "pronoun = pro alias\n",
    "pro = 这只 | 那只 | 这条 | 那条\n",
    "alias = 猫 | 小猫 | 猫咪 | 喵喵 | 小可爱\n",
    "name = verb catname\n",
    "verb = 叫 | 的名字是\n",
    "catname = 小明 | 小刚 | 小强 | 小花 | 小丽 | 小红 | 毛毛\n",
    "category = ，品种是 categories \n",
    "categories = 中国狸花猫 | 英短 | 美短 | 布偶猫 | 暹罗猫 | 波斯猫 | 孟加拉猫\n",
    "color = ,颜色是 colors\n",
    "colors = 白色 | 黑色 | 黄色 | 虎斑色 | 蓝色 | 花色\n",
    "food = ,爱吃 eating\n",
    "eating = eating ， snack | snack\n",
    "\n",
    "snack = 鱼 | 老鼠 | 猫粮 \n",
    "'''"
   ]
  },
  {
   "cell_type": "markdown",
   "metadata": {},
   "source": [
    "> **评阅点**：是否和上一个语法区别比较大"
   ]
  },
  {
   "cell_type": "markdown",
   "metadata": {},
   "source": [
    "TODO: 然后，使用自己之前定义的generate_by_str函数，使用此函数生成句子。"
   ]
  },
  {
   "cell_type": "markdown",
   "metadata": {},
   "source": [
    "TODO: 然后，定义一个函数，generate_n，将generate扩展，使其能够生成n个句子:"
   ]
  },
  {
   "cell_type": "code",
   "execution_count": 3,
   "metadata": {},
   "outputs": [],
   "source": [
    "import random\n",
    "choice_a_expr = random.choice\n",
    "def generate_grammar(grammar_str: str, target, split= '='):\n",
    "    # 定义grammar\n",
    "    grammar = {}\n",
    "    # grammar_str分行 for循环\n",
    "    for line in grammar_str.split('\\n'):\n",
    "        # 不是行，跳过本次循环\n",
    "        if not line:\n",
    "            continue\n",
    "        # 将表达式expression与公式formula以split分开\n",
    "        expression, formula = line.split(split)\n",
    "        # 将formula以 | 分开得到 formulas\n",
    "        formulas = formula.split(\"|\")\n",
    "        # 再以空格分开\n",
    "        formulas = [f.split() for f in formulas]\n",
    "        # 给grammar赋值，注：去除expression前后空格strip\n",
    "        grammar[expression.strip()] = formulas\n",
    "        # print(expression, ':', formulas)\n",
    "    return grammar"
   ]
  },
  {
   "cell_type": "code",
   "execution_count": 154,
   "metadata": {},
   "outputs": [
    {
     "data": {
      "text/plain": [
       "{'sport': [['日期', '人名', '意愿', '地点', '运动']],\n",
       " '日期': [['今天', '星期', '数字']],\n",
       " '数字': [['一'], ['二'], ['三'], ['四'], ['五'], ['六'], ['天']],\n",
       " '人名': [['小明'], ['小刚'], ['小强'], ['小花'], ['小丽'], ['小红']],\n",
       " '意愿': [['想'], ['打算'], ['要'], ['要'], ['决定'], ['考虑']],\n",
       " '地点': [['介词', '场所']],\n",
       " '介词': [['在'], ['去'], ['前往']],\n",
       " '场所': [['体育馆'], ['健身房'], ['健身工作室'], ['健身中心'], ['操场']],\n",
       " '运动': [['球类'], ['无氧'], ['有氧']],\n",
       " '球类': [['打球'], ['打篮球'], ['打乒乓球'], ['打羽毛球'], ['打壁球'], ['踢足球']],\n",
       " '无氧': [['做拉伸运动'],\n",
       "  ['做深蹲'],\n",
       "  ['做卧推'],\n",
       "  ['练腿'],\n",
       "  ['练臀'],\n",
       "  ['练核心'],\n",
       "  ['练背'],\n",
       "  ['练肩'],\n",
       "  ['练二头'],\n",
       "  ['练三头']],\n",
       " '有氧': [['跑步'], ['打拳'], ['波比跳'], ['跳绳']]}"
      ]
     },
     "execution_count": 154,
     "metadata": {},
     "output_type": "execute_result"
    }
   ],
   "source": [
    "sport_grammar = generate_grammar(sport, target='xxx')\n",
    "sport_grammar"
   ]
  },
  {
   "cell_type": "markdown",
   "metadata": {},
   "source": [
    "```\n",
    "grammar : {'two': [['num', 'op', 'num']], 'op': [['+'], ['-'], ['*'], ['/']]}\n",
    "```"
   ]
  },
  {
   "cell_type": "code",
   "execution_count": 4,
   "metadata": {},
   "outputs": [],
   "source": [
    "import random\n",
    "def generate_by_grammar(grammar: dict, target: str):\n",
    "    # to test if target is a key\n",
    "    if target not in grammar:\n",
    "        return target\n",
    "    # 随机抽取key=target时的value\n",
    "    expr = random.choice(grammar[target])\n",
    "    # 递归，拼接\n",
    "    return ''.join(generate_by_grammar(grammar, t) for t in expr)"
   ]
  },
  {
   "cell_type": "code",
   "execution_count": 156,
   "metadata": {},
   "outputs": [
    {
     "data": {
      "text/plain": [
       "'今天星期二小刚想前往操场练核心'"
      ]
     },
     "execution_count": 156,
     "metadata": {},
     "output_type": "execute_result"
    }
   ],
   "source": [
    "generate_by_grammar(sport_grammar, 'sport')"
   ]
  },
  {
   "cell_type": "code",
   "execution_count": 5,
   "metadata": {},
   "outputs": [],
   "source": [
    "# grammar_str: 语法，split：分隔符， target：目标语句key\n",
    "def generate_by_str(grammar_str, split, target):\n",
    "    grammar = generate_grammar(grammar_str, target, split)\n",
    "    return generate_by_grammar(grammar, target)"
   ]
  },
  {
   "cell_type": "code",
   "execution_count": 158,
   "metadata": {},
   "outputs": [
    {
     "data": {
      "text/plain": [
       "'今天星期三小明要去健身房波比跳'"
      ]
     },
     "execution_count": 158,
     "metadata": {},
     "output_type": "execute_result"
    }
   ],
   "source": [
    "generate_by_str(sport, '=', 'sport')"
   ]
  },
  {
   "cell_type": "code",
   "execution_count": 6,
   "metadata": {},
   "outputs": [],
   "source": [
    "def generate_n(grammar_str, split, target, n):\n",
    "    sentences = []\n",
    "    for i in range(n):\n",
    "        grammar = generate_grammar(grammar_str, target, split)\n",
    "        sentence = generate_by_grammar(grammar, target)\n",
    "        sentences.append(sentence)\n",
    "        \n",
    "    return sentences"
   ]
  },
  {
   "cell_type": "code",
   "execution_count": 10,
   "metadata": {},
   "outputs": [
    {
     "data": {
      "text/plain": [
       "str"
      ]
     },
     "execution_count": 10,
     "metadata": {},
     "output_type": "execute_result"
    }
   ],
   "source": [
    "type(generate_n(cat, '=', 'cat', 20)[0])"
   ]
  },
  {
   "cell_type": "markdown",
   "metadata": {},
   "source": [
    "> **评阅点**; 运行代码，观察是否能够生成多个句子"
   ]
  },
  {
   "cell_type": "markdown",
   "metadata": {},
   "source": [
    "#### 2. 使用新数据源完成语言模型的训练"
   ]
  },
  {
   "cell_type": "markdown",
   "metadata": {},
   "source": [
    "按照我们上文中定义的`prob_2`函数，我们更换一个文本数据源，获得新的Language Model:\n",
    "\n",
    "1. 下载文本数据集（你可以在以下数据集中任选一个，也可以两个都使用）\n",
    "    + 可选数据集1，保险行业问询对话集： https://github.com/Computing-Intelligence/insuranceqa-corpus-zh/raw/release/corpus/pool/train.txt.gz\n",
    "    + 可选数据集2：豆瓣评论数据集：https://github.com/Computing-Intelligence/datasource/raw/master/movie_comments.csv\n",
    "2. 修改代码，获得新的**2-gram**语言模型\n",
    "    + 进行文本清洗，获得所有的纯文本\n",
    "    + 将这些文本进行切词\n",
    "    + 送入之前定义的语言模型中，判断文本的合理程度"
   ]
  },
  {
   "cell_type": "markdown",
   "metadata": {},
   "source": [
    "> **评阅点** 1. 是否使用了新的数据集； 2. csv(txt)数据是否正确解析"
   ]
  },
  {
   "cell_type": "code",
   "execution_count": 11,
   "metadata": {},
   "outputs": [
    {
     "name": "stdout",
     "output_type": "stream",
     "text": [
      "{'encoding': 'utf-8', 'confidence': 0.99, 'language': ''}\n"
     ]
    }
   ],
   "source": [
    "# 检测txt编码格式为utf-8\n",
    "import chardet\n",
    "file = open('/Users/Kane/python_demo/train.txt', 'rb')\n",
    "data = file.read()\n",
    "print(chardet.detect(data))"
   ]
  },
  {
   "cell_type": "code",
   "execution_count": 12,
   "metadata": {},
   "outputs": [
    {
     "data": {
      "text/html": [
       "<div>\n",
       "<style scoped>\n",
       "    .dataframe tbody tr th:only-of-type {\n",
       "        vertical-align: middle;\n",
       "    }\n",
       "\n",
       "    .dataframe tbody tr th {\n",
       "        vertical-align: top;\n",
       "    }\n",
       "\n",
       "    .dataframe thead th {\n",
       "        text-align: right;\n",
       "    }\n",
       "</style>\n",
       "<table border=\"1\" class=\"dataframe\">\n",
       "  <thead>\n",
       "    <tr style=\"text-align: right;\">\n",
       "      <th></th>\n",
       "      <th>0 ++$++ disability-insurance ++$++ 法律要求残疾保险吗？ ++$++ Is  Disability  Insurance  Required  By  Law?</th>\n",
       "    </tr>\n",
       "  </thead>\n",
       "  <tbody>\n",
       "    <tr>\n",
       "      <th>0</th>\n",
       "      <td>1 ++$++ life-insurance ++$++ 债权人可以在死后人寿保险吗？ ++...</td>\n",
       "    </tr>\n",
       "    <tr>\n",
       "      <th>1</th>\n",
       "      <td>2 ++$++ renters-insurance ++$++ 旅行者保险有租赁保险吗？ +...</td>\n",
       "    </tr>\n",
       "    <tr>\n",
       "      <th>2</th>\n",
       "      <td>3 ++$++ auto-insurance ++$++ 我可以开一辆没有保险的新车吗？ +...</td>\n",
       "    </tr>\n",
       "    <tr>\n",
       "      <th>3</th>\n",
       "      <td>4 ++$++ life-insurance ++$++ 人寿保险的现金转出价值是否应纳税？...</td>\n",
       "    </tr>\n",
       "    <tr>\n",
       "      <th>4</th>\n",
       "      <td>5 ++$++ annuities ++$++ 如何报告年金收入？ ++$++ How  I...</td>\n",
       "    </tr>\n",
       "  </tbody>\n",
       "</table>\n",
       "</div>"
      ],
      "text/plain": [
       "  0 ++$++ disability-insurance ++$++ 法律要求残疾保险吗？ ++$++ Is  Disability  Insurance  Required  By  Law?\n",
       "0  1 ++$++ life-insurance ++$++ 债权人可以在死后人寿保险吗？ ++...                                               \n",
       "1  2 ++$++ renters-insurance ++$++ 旅行者保险有租赁保险吗？ +...                                               \n",
       "2  3 ++$++ auto-insurance ++$++ 我可以开一辆没有保险的新车吗？ +...                                               \n",
       "3  4 ++$++ life-insurance ++$++ 人寿保险的现金转出价值是否应纳税？...                                               \n",
       "4  5 ++$++ annuities ++$++ 如何报告年金收入？ ++$++ How  I...                                               "
      ]
     },
     "execution_count": 12,
     "metadata": {},
     "output_type": "execute_result"
    }
   ],
   "source": [
    "# 读取数据\n",
    "filename = '/Users/Kane/python_demo/train.txt'\n",
    "\n",
    "import pandas as pd\n",
    "\n",
    "content = pd.read_table(filename, encoding='utf-8')\n",
    "\n",
    "content.head()"
   ]
  },
  {
   "cell_type": "code",
   "execution_count": 58,
   "metadata": {},
   "outputs": [
    {
     "data": {
      "text/plain": [
       "'0 ++$++ disability-insurance ++$++ 法律要求残疾保险吗？ ++$++ Is  Disability  Insurance  Required  By  Law?'"
      ]
     },
     "execution_count": 58,
     "metadata": {},
     "output_type": "execute_result"
    }
   ],
   "source": [
    "content.columns[0]"
   ]
  },
  {
   "cell_type": "code",
   "execution_count": null,
   "metadata": {},
   "outputs": [],
   "source": [
    "content[content.columns[0]]"
   ]
  },
  {
   "cell_type": "code",
   "execution_count": 27,
   "metadata": {},
   "outputs": [
    {
     "data": {
      "text/plain": [
       "pandas.core.series.Series"
      ]
     },
     "execution_count": 27,
     "metadata": {},
     "output_type": "execute_result"
    }
   ],
   "source": [
    "type(content[content.columns[0]])"
   ]
  },
  {
   "cell_type": "code",
   "execution_count": 22,
   "metadata": {},
   "outputs": [
    {
     "data": {
      "text/plain": [
       "'12888 ++$++ health-insurance ++$++ Geico有健康保险吗？ ++$++ Does  Geico  Have  Health  Insurance?'"
      ]
     },
     "execution_count": 22,
     "metadata": {},
     "output_type": "execute_result"
    }
   ],
   "source": [
    "articles = content[content.columns[0]].tolist()\n",
    "len(articles)\n",
    "articles[-1]"
   ]
  },
  {
   "cell_type": "code",
   "execution_count": 23,
   "metadata": {},
   "outputs": [],
   "source": [
    "# 清理数据方法\n",
    "import re\n",
    "def token(text):\n",
    "    # we will learn the regular expression next course\n",
    "    return re.findall('\\w+', text.split('++$++')[2].strip())"
   ]
  },
  {
   "cell_type": "code",
   "execution_count": 70,
   "metadata": {},
   "outputs": [
    {
     "data": {
      "text/plain": [
       "list"
      ]
     },
     "execution_count": 70,
     "metadata": {},
     "output_type": "execute_result"
    }
   ],
   "source": [
    "token(text)"
   ]
  },
  {
   "cell_type": "code",
   "execution_count": 31,
   "metadata": {},
   "outputs": [],
   "source": [
    "# 清理数据存入articles_clean\n",
    "# 方法一：articles_clean = [''.join(token(str(a)))for a in articles]\n",
    "# 方法二\n",
    "articles_clean = []\n",
    "for a in articles:\n",
    "    articles_clean.append(''.join(token(str(a))))"
   ]
  },
  {
   "cell_type": "code",
   "execution_count": 66,
   "metadata": {},
   "outputs": [],
   "source": [
    "# 将articles_clean存到硬盘\n",
    "with open('insurance.txt', 'w') as f:\n",
    "    for a in articles_clean:\n",
    "        f.write(a + '\\n')\n",
    "    f.close()"
   ]
  },
  {
   "cell_type": "code",
   "execution_count": 26,
   "metadata": {},
   "outputs": [],
   "source": [
    "# 切词转为list方法\n",
    "def cut(string): return list(jieba.cut(string))"
   ]
  },
  {
   "cell_type": "code",
   "execution_count": 32,
   "metadata": {},
   "outputs": [],
   "source": [
    "# jieba切词，存入TOKEN\n",
    "# 方法1： 循环分词，不从文件中取\n",
    "TOKEN = []\n",
    "for a in articles_clean:\n",
    "    TOKEN.extend(cut(a))\n",
    "\n",
    "# 方法2：从insurance.txt文件中读取\n",
    "def not_line_feed(s):\n",
    "    if(s == '\\n'):\n",
    "        return False\n",
    "    return True\n",
    "# TOKEN1 = list(filter(not_line_feed, cut(open('insurance.txt').read())))"
   ]
  },
  {
   "cell_type": "code",
   "execution_count": 33,
   "metadata": {},
   "outputs": [
    {
     "data": {
      "text/plain": [
       "76276"
      ]
     },
     "execution_count": 33,
     "metadata": {},
     "output_type": "execute_result"
    }
   ],
   "source": [
    "len(TOKEN)"
   ]
  },
  {
   "cell_type": "code",
   "execution_count": 34,
   "metadata": {},
   "outputs": [
    {
     "ename": "NameError",
     "evalue": "name 'TOKEN1' is not defined",
     "output_type": "error",
     "traceback": [
      "\u001b[1;31m---------------------------------------------------------------------------\u001b[0m",
      "\u001b[1;31mNameError\u001b[0m                                 Traceback (most recent call last)",
      "\u001b[1;32m<ipython-input-34-d0b770f12709>\u001b[0m in \u001b[0;36m<module>\u001b[1;34m\u001b[0m\n\u001b[1;32m----> 1\u001b[1;33m \u001b[0mlen\u001b[0m\u001b[1;33m(\u001b[0m\u001b[0mTOKEN1\u001b[0m\u001b[1;33m)\u001b[0m\u001b[1;33m\u001b[0m\u001b[1;33m\u001b[0m\u001b[0m\n\u001b[0m",
      "\u001b[1;31mNameError\u001b[0m: name 'TOKEN1' is not defined"
     ]
    }
   ],
   "source": [
    "len(TOKEN1)"
   ]
  },
  {
   "cell_type": "code",
   "execution_count": 35,
   "metadata": {},
   "outputs": [
    {
     "data": {
      "text/plain": [
       "[('保险', 5012),\n",
       " ('的', 3220),\n",
       " ('人寿保险', 2962),\n",
       " ('什么', 2677),\n",
       " ('吗', 2478),\n",
       " ('是', 2347),\n",
       " ('我', 2054),\n",
       " ('是否', 1862),\n",
       " ('可以', 1704),\n",
       " ('健康', 1513)]"
      ]
     },
     "execution_count": 35,
     "metadata": {},
     "output_type": "execute_result"
    }
   ],
   "source": [
    "# 计数器\n",
    "from collections import Counter\n",
    "\n",
    "words_count = Counter(TOKEN)\n",
    "\n",
    "words_count.most_common(10)"
   ]
  },
  {
   "cell_type": "markdown",
   "metadata": {},
   "source": [
    "$$ Pr(sentence) = Pr(w_1w_2w_3w_4) = \\prod_i^{n} \\frac{\\# W_iW_{i+1}}{\\# W_{i+1}} * Pr{w_n} $$"
   ]
  },
  {
   "cell_type": "markdown",
   "metadata": {},
   "source": [
    "$$ Pr(gram-2) =P(w_1|w_2w_3)P(w_2|w_3w_4)P(w_3|w_4w_5)P(w_4|w_5w_6)P(w_5|w_6)P(w_6)\n",
    "= \\prod_{i=1}^{n-2}\\frac{P(w_n w_{n+1} w_{n+2})}{P(w_{n+1} w_{n+2})}* Pr(w_{n-1}|w_n) * Pr{w_n}\n",
    "= \\prod_{i=1}^{n-2}\\frac{\\# W_i W_{i+1} W_{i+2}}{\\# W_i W_{i+1}}* Pr(w_{n-1}|w_n) * Pr{w_n}\n",
    "= \\prod_{i=1}^{n-2}\\frac{\\# W_i W_{i+1} W_{i+2}}{\\# W_i W_{i+1}}* \\frac{\\#W_{n-1}W_n}{\\#W_n} * \\frac{\\#W_n}{\\sum_{i=1}^{n}\\#W_i} $$ "
   ]
  },
  {
   "cell_type": "code",
   "execution_count": null,
   "metadata": {},
   "outputs": [],
   "source": [
    "TOKEN_2_GRAM = [''.join(TOKEN[i:i+2]) for i in range(len(TOKEN[:-1]))]\n",
    "TOKEN_2_GRAM"
   ]
  },
  {
   "cell_type": "code",
   "execution_count": 95,
   "metadata": {},
   "outputs": [
    {
     "data": {
      "text/plain": [
       "76275"
      ]
     },
     "execution_count": 95,
     "metadata": {},
     "output_type": "execute_result"
    }
   ],
   "source": [
    "len(TOKEN_2_GRAM)"
   ]
  },
  {
   "cell_type": "code",
   "execution_count": 37,
   "metadata": {},
   "outputs": [],
   "source": [
    "# TOKEN_2_GRAM计数器\n",
    "from collections import Counter\n",
    "\n",
    "words_count_2 = Counter(TOKEN_2_GRAM)"
   ]
  },
  {
   "cell_type": "code",
   "execution_count": 101,
   "metadata": {},
   "outputs": [
    {
     "data": {
      "text/plain": [
       "[('健康保险', 1349),\n",
       " ('什么是', 1149),\n",
       " ('保险是否', 966),\n",
       " ('我的', 726),\n",
       " ('残疾保险', 658),\n",
       " ('房主保险', 603),\n",
       " ('我可以', 530),\n",
       " ('保险吗', 510),\n",
       " ('是否覆盖', 504),\n",
       " ('年金', 462)]"
      ]
     },
     "execution_count": 101,
     "metadata": {},
     "output_type": "execute_result"
    }
   ],
   "source": [
    "words_count_2.most_common(10)"
   ]
  },
  {
   "cell_type": "code",
   "execution_count": 102,
   "metadata": {},
   "outputs": [
    {
     "data": {
      "text/plain": [
       "462"
      ]
     },
     "execution_count": 102,
     "metadata": {},
     "output_type": "execute_result"
    }
   ],
   "source": [
    "words_count_2['年金']"
   ]
  },
  {
   "cell_type": "code",
   "execution_count": null,
   "metadata": {},
   "outputs": [],
   "source": [
    "TOKEN_3_GRAM = [''.join(TOKEN[i:i+3]) for i in range(len(TOKEN[:-2]))]\n",
    "TOKEN_3_GRAM"
   ]
  },
  {
   "cell_type": "code",
   "execution_count": 106,
   "metadata": {},
   "outputs": [
    {
     "data": {
      "text/plain": [
       "list"
      ]
     },
     "execution_count": 106,
     "metadata": {},
     "output_type": "execute_result"
    }
   ],
   "source": [
    "len(TOKEN_3_GRAM)"
   ]
  },
  {
   "cell_type": "code",
   "execution_count": 39,
   "metadata": {},
   "outputs": [],
   "source": [
    "# TOKEN_3_GRAM计数器\n",
    "from collections import Counter\n",
    "\n",
    "words_count_3 = Counter(TOKEN_3_GRAM)"
   ]
  },
  {
   "cell_type": "code",
   "execution_count": 109,
   "metadata": {},
   "outputs": [
    {
     "data": {
      "text/plain": [
       "[('保险是否覆盖', 400),\n",
       " ('长期护理保险', 367),\n",
       " ('吗什么是', 218),\n",
       " ('健康保险是否', 216),\n",
       " ('的健康保险', 213),\n",
       " ('房主保险是否', 194),\n",
       " ('保险是否涵盖', 188),\n",
       " ('租客保险是否', 170),\n",
       " ('健康保险吗', 145),\n",
       " ('家庭保险是否', 124)]"
      ]
     },
     "execution_count": 109,
     "metadata": {},
     "output_type": "execute_result"
    }
   ],
   "source": [
    "words_count_3.most_common(10)"
   ]
  },
  {
   "cell_type": "code",
   "execution_count": 115,
   "metadata": {},
   "outputs": [
    {
     "data": {
      "text/plain": [
       "45843"
      ]
     },
     "execution_count": 115,
     "metadata": {},
     "output_type": "execute_result"
    }
   ],
   "source": [
    "len(words_count_3)"
   ]
  },
  {
   "cell_type": "code",
   "execution_count": 110,
   "metadata": {},
   "outputs": [
    {
     "data": {
      "text/plain": [
       "collections.Counter"
      ]
     },
     "execution_count": 110,
     "metadata": {},
     "output_type": "execute_result"
    }
   ],
   "source": [
    "type(words_count_3)"
   ]
  },
  {
   "cell_type": "code",
   "execution_count": 40,
   "metadata": {},
   "outputs": [],
   "source": [
    "# 单个词概率\n",
    "def prob_1(word):\n",
    "    if words_count[word] == 0:\n",
    "        return 1 / len(TOKEN)\n",
    "    return words_count[word] / len(TOKEN)"
   ]
  },
  {
   "cell_type": "code",
   "execution_count": 104,
   "metadata": {},
   "outputs": [],
   "source": [
    "# 两个词连起来的概率\n",
    "def prob_2(word1, word2):\n",
    "    if word1 + word2 in words_count_2:\n",
    "        print(\"exits2\")\n",
    "        return words_count_2[word1 + word2] / words_count[word2]\n",
    "    else:\n",
    "        #print('else_prob_2')\n",
    "        return 1 / len(TOKEN_2_GRAM)"
   ]
  },
  {
   "cell_type": "code",
   "execution_count": 129,
   "metadata": {},
   "outputs": [
    {
     "name": "stdout",
     "output_type": "stream",
     "text": [
      "exits2\n"
     ]
    },
    {
     "data": {
      "text/plain": [
       "0.2691540303272147"
      ]
     },
     "execution_count": 129,
     "metadata": {},
     "output_type": "execute_result"
    }
   ],
   "source": [
    "prob_2('健康', '保险')"
   ]
  },
  {
   "cell_type": "code",
   "execution_count": 92,
   "metadata": {},
   "outputs": [],
   "source": [
    "# 三个词连起来的概率\n",
    "def prob_3(word1, word2, word3):\n",
    "    if word1 + word2 + word3 in words_count_3:\n",
    "        print('exist3')\n",
    "        return words_count_3[word1 + word2 + word3] / words_count_2[word2 + word3]\n",
    "    else:\n",
    "        # print('else_prob_3')\n",
    "        return 1 / len(TOKEN_3_GRAM)"
   ]
  },
  {
   "cell_type": "code",
   "execution_count": 124,
   "metadata": {},
   "outputs": [
    {
     "name": "stdout",
     "output_type": "stream",
     "text": [
      "exist\n"
     ]
    },
    {
     "data": {
      "text/plain": [
       "0.7936507936507936"
      ]
     },
     "execution_count": 124,
     "metadata": {},
     "output_type": "execute_result"
    }
   ],
   "source": [
    "prob_3('保险','是否', '覆盖')"
   ]
  },
  {
   "cell_type": "code",
   "execution_count": 43,
   "metadata": {},
   "outputs": [],
   "source": [
    "# 某句子的概率\n",
    "def get_probability(sentence):\n",
    "    words = list(cut(sentence))\n",
    "    sentence_pro = 1\n",
    "    \n",
    "    for i, word in enumerate(words[:-2]):\n",
    "        \n",
    "        probability = prob_3(word, words[i+1], words[i+2])\n",
    "        \n",
    "        sentence_pro *= probability\n",
    "    print(type(words[-2]))\n",
    "    sentence_pro *= prob_2(words[-2], words[-1])\n",
    "    sentence_pro *= prob_1(words[-1])\n",
    "    return sentence_pro"
   ]
  },
  {
   "cell_type": "code",
   "execution_count": 44,
   "metadata": {},
   "outputs": [
    {
     "name": "stdout",
     "output_type": "stream",
     "text": [
      "exist3\n",
      "exist3\n",
      "exist3\n",
      "<class 'str'>\n",
      "exits2\n"
     ]
    },
    {
     "data": {
      "text/plain": [
       "1.342081356523855e-06"
      ]
     },
     "execution_count": 44,
     "metadata": {},
     "output_type": "execute_result"
    }
   ],
   "source": [
    "get_probability('Geico有健康保险吗')"
   ]
  },
  {
   "cell_type": "code",
   "execution_count": 28,
   "metadata": {},
   "outputs": [
    {
     "name": "stderr",
     "output_type": "stream",
     "text": [
      "Building prefix dict from the default dictionary ...\n",
      "Dumping model to file cache C:\\Users\\Kane\\AppData\\Local\\Temp\\jieba.cache\n",
      "Loading model cost 2.737 seconds.\n",
      "Prefix dict has been built successfully.\n"
     ]
    },
    {
     "data": {
      "text/plain": [
       "Counter({'我': 2,\n",
       "         '可以': 1,\n",
       "         '为': 1,\n",
       "         '母亲': 1,\n",
       "         '购买': 1,\n",
       "         '长期': 1,\n",
       "         '护理': 1,\n",
       "         '保险': 1,\n",
       "         '吗': 1})"
      ]
     },
     "execution_count": 28,
     "metadata": {},
     "output_type": "execute_result"
    }
   ],
   "source": [
    "# 分词\n",
    "import jieba\n",
    "\n",
    "from collections import Counter\n",
    "\n",
    "with_jieba_cut = Counter(jieba.cut(articles_clean[100]))\n",
    "\n",
    "with_jieba_cut"
   ]
  },
  {
   "cell_type": "code",
   "execution_count": null,
   "metadata": {},
   "outputs": [],
   "source": [
    "with_jieba_cut"
   ]
  },
  {
   "cell_type": "code",
   "execution_count": 74,
   "metadata": {},
   "outputs": [
    {
     "data": {
      "text/plain": [
       "<generator object Tokenizer.cut at 0x000001E3D55EB7C8>"
      ]
     },
     "execution_count": 74,
     "metadata": {},
     "output_type": "execute_result"
    }
   ],
   "source": [
    "jieba.cut('Geico有健康保险吗？')"
   ]
  },
  {
   "cell_type": "markdown",
   "metadata": {},
   "source": [
    "#### 3. 获得最优质的的语言"
   ]
  },
  {
   "cell_type": "markdown",
   "metadata": {},
   "source": [
    "当我们能够生成随机的语言并且能判断之后，我们就可以生成更加合理的语言了。请定义 generate_best 函数，该函数输入一个语法 + 语言模型，能够生成**n**个句子，并能选择一个最合理的句子: \n",
    "\n"
   ]
  },
  {
   "cell_type": "markdown",
   "metadata": {},
   "source": [
    "提示，要实现这个函数，你需要Python的sorted函数"
   ]
  },
  {
   "cell_type": "code",
   "execution_count": 13,
   "metadata": {},
   "outputs": [
    {
     "data": {
      "text/plain": [
       "[1, 2, 3, 5]"
      ]
     },
     "execution_count": 13,
     "metadata": {},
     "output_type": "execute_result"
    }
   ],
   "source": [
    "sorted([1, 3, 5, 2])"
   ]
  },
  {
   "cell_type": "markdown",
   "metadata": {},
   "source": [
    "这个函数接受一个参数key，这个参数接受一个函数作为输入，例如"
   ]
  },
  {
   "cell_type": "code",
   "execution_count": 139,
   "metadata": {},
   "outputs": [
    {
     "data": {
      "text/plain": [
       "[(1, 4), (2, 5), (4, 4), (5, 0)]"
      ]
     },
     "execution_count": 139,
     "metadata": {},
     "output_type": "execute_result"
    }
   ],
   "source": [
    "sorted([(2, 5), (1, 4), (5, 0), (4, 4)], key=lambda x: x[0])"
   ]
  },
  {
   "cell_type": "code",
   "execution_count": 128,
   "metadata": {},
   "outputs": [
    {
     "data": {
      "text/plain": [
       "[(6.658053203509464e-35, '今天星期一小花要前往健身房练腿'),\n",
       " (6.658053203509464e-35, '今天星期四小丽要去健身工作室跳绳'),\n",
       " (8.729125525748571e-40, '今天星期三小强要前往健身中心打乒乓球'),\n",
       " (8.729125525748571e-40, '今天星期六小明打算前往健身中心踢足球'),\n",
       " (1.1444431294738143e-44, '今天星期四小刚决定去健身中心练背')]"
      ]
     },
     "execution_count": 128,
     "metadata": {},
     "output_type": "execute_result"
    }
   ],
   "source": [
    "list1 = [(8.729125525748571e-40, '今天星期三小强要前往健身中心打乒乓球'), (6.658053203509464e-35, '今天星期一小花要前往健身房练腿'), (6.658053203509464e-35, '今天星期四小丽要去健身工作室跳绳'), (1.1444431294738143e-44, '今天星期四小刚决定去健身中心练背'), (8.729125525748571e-40, '今天星期六小明打算前往健身中心踢足球')]\n",
    "sorted(list1, key=lambda x: x[0], reverse=True)"
   ]
  },
  {
   "cell_type": "markdown",
   "metadata": {},
   "source": [
    "能够让list按照第0个元素进行排序."
   ]
  },
  {
   "cell_type": "code",
   "execution_count": 16,
   "metadata": {},
   "outputs": [
    {
     "data": {
      "text/plain": [
       "[(5, 0), (1, 4), (4, 4), (2, 5)]"
      ]
     },
     "execution_count": 16,
     "metadata": {},
     "output_type": "execute_result"
    }
   ],
   "source": [
    "sorted([(2, 5), (1, 4), (5, 0), (4, 4)], key=lambda x: x[1])"
   ]
  },
  {
   "cell_type": "markdown",
   "metadata": {},
   "source": [
    "能够让list按照第1个元素进行排序."
   ]
  },
  {
   "cell_type": "code",
   "execution_count": 17,
   "metadata": {},
   "outputs": [
    {
     "data": {
      "text/plain": [
       "[(2, 5), (1, 4), (4, 4), (5, 0)]"
      ]
     },
     "execution_count": 17,
     "metadata": {},
     "output_type": "execute_result"
    }
   ],
   "source": [
    "sorted([(2, 5), (1, 4), (5, 0), (4, 4)], key=lambda x: x[1], reverse=True)"
   ]
  },
  {
   "cell_type": "markdown",
   "metadata": {},
   "source": [
    "能够让list按照第1个元素进行排序, 但是是递减的顺序。"
   ]
  },
  {
   "cell_type": "markdown",
   "metadata": {},
   "source": [
    ">"
   ]
  },
  {
   "cell_type": "code",
   "execution_count": 45,
   "metadata": {},
   "outputs": [],
   "source": [
    "def generate_n(grammar_str, split, target, n):\n",
    "    sentences = []\n",
    "    for i in range(n):\n",
    "        grammar = generate_grammar(grammar_str, target, split)\n",
    "        sentence = generate_by_grammar(grammar, target)\n",
    "        sentences.append(sentence)\n",
    "        \n",
    "    return sentences"
   ]
  },
  {
   "cell_type": "code",
   "execution_count": null,
   "metadata": {},
   "outputs": [],
   "source": [
    "generate_n(sport, '=', 'sport', 20)"
   ]
  },
  {
   "cell_type": "code",
   "execution_count": 129,
   "metadata": {},
   "outputs": [],
   "source": [
    "import pdb\n",
    "def generate_best(grammar_str, split, target, n): # you code here\n",
    "    \n",
    "    sentences_probabilities = []\n",
    "    \n",
    "    sentences = generate_n(grammar_str, split, target, n)\n",
    "    \n",
    "    #pdb.set_trace()\n",
    "    \n",
    "    for sentence in sentences:\n",
    "        \n",
    "        type(sentence)\n",
    "       # p = get_probability(re.findall('\\w+', sentence.strip()))\n",
    "    \n",
    "        p = get_probability(sentence)\n",
    "        \n",
    "        print('p', p)\n",
    "        \n",
    "        tup = (p, sentence)\n",
    "        \n",
    "        print(tup)\n",
    "        \n",
    "        sentences_probabilities.append(tup)\n",
    "    \n",
    "    sentences_probabilities = sorted(sentences_probabilities, key=lambda x: x[0], reverse=True)\n",
    "    \n",
    "    print(sentences_probabilities)\n",
    "    return sentences_probabilities[0]\n",
    "    #return sorted(sentences_probabilities,  key=lambda x: x[0])"
   ]
  },
  {
   "cell_type": "code",
   "execution_count": 130,
   "metadata": {},
   "outputs": [
    {
     "name": "stdout",
     "output_type": "stream",
     "text": [
      "<class 'str'>\n",
      "p 5.0783635004448086e-30\n",
      "(5.0783635004448086e-30, '今天星期三小红要去体育馆跑步')\n",
      "<class 'str'>\n",
      "p 6.658053203509464e-35\n",
      "(6.658053203509464e-35, '今天星期六小花决定去健身房练腿')\n",
      "<class 'str'>\n",
      "p 6.658053203509464e-35\n",
      "(6.658053203509464e-35, '今天星期三小明要前往操场跳绳')\n",
      "<class 'str'>\n",
      "p 6.658053203509464e-35\n",
      "(6.658053203509464e-35, '今天星期一小丽决定在操场打拳')\n",
      "<class 'str'>\n",
      "p 1.1444431294738143e-44\n",
      "(1.1444431294738143e-44, '今天星期五小明要在健身中心打羽毛球')\n",
      "[(5.0783635004448086e-30, '今天星期三小红要去体育馆跑步'), (6.658053203509464e-35, '今天星期六小花决定去健身房练腿'), (6.658053203509464e-35, '今天星期三小明要前往操场跳绳'), (6.658053203509464e-35, '今天星期一小丽决定在操场打拳'), (1.1444431294738143e-44, '今天星期五小明要在健身中心打羽毛球')]\n"
     ]
    },
    {
     "data": {
      "text/plain": [
       "(5.0783635004448086e-30, '今天星期三小红要去体育馆跑步')"
      ]
     },
     "execution_count": 130,
     "metadata": {},
     "output_type": "execute_result"
    }
   ],
   "source": [
    "generate_best(sport, '=', 'sport', 5)"
   ]
  },
  {
   "cell_type": "markdown",
   "metadata": {},
   "source": [
    "好了，现在我们实现了自己的第一个AI模型，这个模型能够生成比较接近于人类的语言。"
   ]
  },
  {
   "cell_type": "markdown",
   "metadata": {},
   "source": [
    "> **评阅点**： 是否使用 lambda 语法进行排序"
   ]
  },
  {
   "cell_type": "markdown",
   "metadata": {},
   "source": [
    "Q: 这个模型有什么问题？ 你准备如何提升？ "
   ]
  },
  {
   "cell_type": "markdown",
   "metadata": {},
   "source": [
    "Ans:"
   ]
  },
  {
   "cell_type": "markdown",
   "metadata": {},
   "source": [
    ">**评阅点**: 是否提出了比较实际的问题，例如OOV问题，例如数据量，例如变成 3-gram问题。"
   ]
  },
  {
   "cell_type": "markdown",
   "metadata": {},
   "source": [
    "##### 以下内容为可选部分，对于绝大多数同学，能完成以上的项目已经很优秀了，下边的内容如果你还有精力可以试试，但不是必须的。"
   ]
  },
  {
   "cell_type": "markdown",
   "metadata": {},
   "source": [
    "#### 4. (Optional) 完成基于Pattern Match的语句问答\n",
    "> 我们的GitHub仓库中，有一个assignment-01-optional-pattern-match，这个难度较大，感兴趣的同学可以挑战一下。"
   ]
  },
  {
   "cell_type": "markdown",
   "metadata": {},
   "source": [
    "\n",
    "#### 5. (Optional) 完成阿兰图灵机器智能原始论文的阅读\n",
    "1. 请阅读阿兰图灵关于机器智能的原始论文：https://github.com/Computing-Intelligence/References/blob/master/AI%20%26%20Machine%20Learning/Computer%20Machinery%20and%20Intelligence.pdf \n",
    "2. 并按照GitHub仓库中的论文阅读模板，填写完毕后发送给我: mqgao@kaikeba.com 谢谢"
   ]
  },
  {
   "cell_type": "markdown",
   "metadata": {},
   "source": [
    "> "
   ]
  },
  {
   "cell_type": "markdown",
   "metadata": {},
   "source": [
    "各位同学，我们已经完成了自己的第一个AI模型，大家对人工智能可能已经有了一些感觉，人工智能的核心就是，我们如何设计一个模型、程序，在外部的输入变化的时候，我们的程序不变，依然能够解决问题。人工智能是一个很大的领域，目前大家所熟知的深度学习只是其中一小部分，之后也肯定会有更多的方法提出来，但是大家知道人工智能的目标，就知道了之后进步的方向。"
   ]
  },
  {
   "cell_type": "markdown",
   "metadata": {},
   "source": [
    "然后，希望大家对AI不要有恐惧感，这个并不难，大家加油！"
   ]
  },
  {
   "cell_type": "markdown",
   "metadata": {},
   "source": [
    ">"
   ]
  },
  {
   "cell_type": "markdown",
   "metadata": {},
   "source": [
    "![](https://timgsa.baidu.com/timg?image&quality=80&size=b9999_10000&sec=1561828422005&di=48d19c16afb6acc9180183a6116088ac&imgtype=0&src=http%3A%2F%2Fb-ssl.duitang.com%2Fuploads%2Fitem%2F201807%2F28%2F20180728150843_BECNF.thumb.224_0.jpeg)"
   ]
  }
 ],
 "metadata": {
  "kernelspec": {
   "display_name": "Python 3",
   "language": "python",
   "name": "python3"
  },
  "language_info": {
   "codemirror_mode": {
    "name": "ipython",
    "version": 3
   },
   "file_extension": ".py",
   "mimetype": "text/x-python",
   "name": "python",
   "nbconvert_exporter": "python",
   "pygments_lexer": "ipython3",
   "version": "3.7.4"
  }
 },
 "nbformat": 4,
 "nbformat_minor": 2
}
